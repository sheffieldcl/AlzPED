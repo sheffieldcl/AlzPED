{
  "nbformat": 4,
  "nbformat_minor": 0,
  "metadata": {
    "colab": {
      "provenance": [],
      "toc_visible": true,
      "authorship_tag": "ABX9TyPVP9WdCNRuxc5kcHHo7WrQ",
      "include_colab_link": true
    },
    "kernelspec": {
      "name": "python3",
      "display_name": "Python 3"
    },
    "language_info": {
      "name": "python"
    }
  },
  "cells": [
    {
      "cell_type": "markdown",
      "metadata": {
        "id": "view-in-github",
        "colab_type": "text"
      },
      "source": [
        "<a href=\"https://colab.research.google.com/github/sheffieldcl/AlzPED/blob/master/JChiorini.ipynb\" target=\"_parent\"><img src=\"https://colab.research.google.com/assets/colab-badge.svg\" alt=\"Open In Colab\"/></a>"
      ]
    },
    {
      "cell_type": "code",
      "execution_count": 2,
      "metadata": {
        "colab": {
          "base_uri": "https://localhost:8080/",
          "height": 373
        },
        "id": "7pHtKcqlGQuU",
        "outputId": "d2dcdea7-a815-4360-8241-cfbf76fc64cc"
      },
      "outputs": [
        {
          "output_type": "error",
          "ename": "ModuleNotFoundError",
          "evalue": "ignored",
          "traceback": [
            "\u001b[0;31m---------------------------------------------------------------------------\u001b[0m",
            "\u001b[0;31mModuleNotFoundError\u001b[0m                       Traceback (most recent call last)",
            "\u001b[0;32m<ipython-input-2-66ce2a12e4ca>\u001b[0m in \u001b[0;36m<module>\u001b[0;34m\u001b[0m\n\u001b[1;32m      4\u001b[0m \u001b[0;31m#           (3) Respective fasta file\u001b[0m\u001b[0;34m\u001b[0m\u001b[0;34m\u001b[0m\u001b[0;34m\u001b[0m\u001b[0m\n\u001b[1;32m      5\u001b[0m \u001b[0;34m\u001b[0m\u001b[0m\n\u001b[0;32m----> 6\u001b[0;31m \u001b[0;32mfrom\u001b[0m \u001b[0mBio\u001b[0m \u001b[0;32mimport\u001b[0m \u001b[0mSearchIO\u001b[0m\u001b[0;34m\u001b[0m\u001b[0;34m\u001b[0m\u001b[0m\n\u001b[0m\u001b[1;32m      7\u001b[0m \u001b[0;32mfrom\u001b[0m \u001b[0mBio\u001b[0m \u001b[0;32mimport\u001b[0m \u001b[0mSeqIO\u001b[0m\u001b[0;34m\u001b[0m\u001b[0;34m\u001b[0m\u001b[0m\n\u001b[1;32m      8\u001b[0m \u001b[0;32mimport\u001b[0m \u001b[0mpandas\u001b[0m \u001b[0;32mas\u001b[0m \u001b[0mpd\u001b[0m\u001b[0;34m\u001b[0m\u001b[0;34m\u001b[0m\u001b[0m\n",
            "\u001b[0;31mModuleNotFoundError\u001b[0m: No module named 'Bio'",
            "",
            "\u001b[0;31m---------------------------------------------------------------------------\u001b[0;32m\nNOTE: If your import is failing due to a missing package, you can\nmanually install dependencies using either !pip or !apt.\n\nTo view examples of installing some common dependencies, click the\n\"Open Examples\" button below.\n\u001b[0;31m---------------------------------------------------------------------------\u001b[0m\n"
          ],
          "errorDetails": {
            "actions": [
              {
                "action": "open_url",
                "actionText": "Open Examples",
                "url": "/notebooks/snippets/importing_libraries.ipynb"
              }
            ]
          }
        }
      ],
      "source": [
        "# Objective: Take and parse HMMER3 domblout result\n",
        "# Takes in: (1) HMMER3 domblout txt file\n",
        "#           (2) Determine e-value\n",
        "#           (3) Respective fasta file\n",
        "\n",
        "from Bio import SearchIO\n",
        "from Bio import SeqIO\n",
        "import pandas as pd\n",
        "import sys, argparse\n",
        "\n",
        "# subprocess.call(['hmmscan', '--domtblout', 'output.txt', '/location/to/profile.hmm', 'input.proteins.fasta']\n",
        "\n",
        "\n",
        "def parseData(inputfile, fastafile):\n",
        "    \"\"\"Parse through HMMER3 generated domblout file\"\"\"\n",
        "\n",
        "    count = 0\n",
        "    \n",
        "    with open(inputfile, 'r') as input:\n",
        "        for qresult in SearchIO.parse(inputfile, 'hmmsearch3-domtab'):\n",
        "            query_id = qresult.id      # fasta id\n",
        "            hits = qresult.hits        # hits \n",
        "            acc = qresult.hsps         # domains\n",
        "            num_hits = len(hits)\n",
        "\n",
        "            empty = []\n",
        "            if num_hits > 0:\n",
        "                for i in range(0,num_hits):\n",
        "                    org = []\n",
        "                    \n",
        "                    empty.append(org)\n",
        "                    \n",
        "                    hit_name = hits[i].id         # hit id\n",
        "                    hit_description = hits[i].description\n",
        "                    hit_evalue = hits[i].evalue   # evalue\n",
        "                    hit_bitscore = hits[i].bitscore  #hit bit score \n",
        "                    hmm_name = hits[i].accession  \n",
        "                    acc_start = acc[i].hit_start  # hit start\n",
        "                    acc_end = acc[i].hit_end      # hit\n",
        "\n",
        "                    hooray = 'HIT!' if hit_evalue < 0.0023 else 'prob not'\n",
        "                    if hooray == 'HIT!':\n",
        "                        count += 1\n",
        "\n",
        "\n",
        "                    #if ethreshold == 0:\n",
        "                    #    hooray = \"no e-value set\"\n",
        "                    # hooray = 'HIT!' if hit_evalue < 0.024 else 'Maybe not'\n",
        "                    \n",
        "                    org.extend((hit_name, hit_description, hit_evalue, hit_bitscore, acc_start, acc_end, hooray))\n",
        "\n",
        "    df = pd.DataFrame(data=empty, columns=['Hit', 'Description', 'Evalue', 'Bitscore', 'Start', 'End', 'FCS?'])\n",
        "    \n",
        "    record = (SeqIO.index(fastafile, \"fasta\")) # load fasta file\n",
        "\n",
        "    # collect motif sites from sequences\n",
        "    motifs = []\n",
        "    for i in range(len(df)):\n",
        "        rec_name = df['Hit'].values[i]\n",
        "        rec = record[rec_name]                # use hit id to find query\n",
        "        qstart = df['Start'].values[i]        \n",
        "        qend = df['End'].values[i]\n",
        "        rec_seq = str(rec.seq)[qstart:qend]\n",
        "        motifs.append(str(rec_seq))\n",
        "\n",
        "    df.insert(5, \"Align Region\", motifs)\n",
        "\n",
        "    return(df, record, count)\n",
        "\n",
        "def parseArgs():\n",
        "    parser = argparse.ArgumentParser(\"Parse HMMER domblout result and report putative FCS\")\n",
        "    parser.add_argument('-d', '--domblout', help = 'input HMMER3 domblout file')\n",
        "    # parser.add_argument('-e','--evalue', type=float, help = 'determine e-value threshold')\n",
        "    parser.add_argument('-f','--fasta', help = 'input respective fasta file')\n",
        "    parser.add_argument('-t','--txt', action = 'store_true', help = 'output txt file', required = False)\n",
        "    args = parser.parse_args()\n",
        "\n",
        "    return(args)\n",
        "\n",
        "def main():\n",
        "    args = parseArgs()\n",
        "\n",
        "    inputfile = args.domblout\n",
        "    # ethreshold = args.evalue\n",
        "    fastafile = args.fasta\n",
        "    txtfile = args.txt\n",
        "\n",
        "    df, record, count = parseData(inputfile, fastafile)\n",
        "    pd.set_option('display.max_columns', None)\n",
        "    pd.set_option('display.max_rows', None)\n",
        "    pd.set_option('expand_frame_repr', False)\n",
        "\n",
        "    print(df)\n",
        "    print(\"\\n\")\n",
        "\n",
        "    print(\"Number of queries: \", len(record))\n",
        "    print(\"Number of hits: \", len(df))\n",
        "    print(\"Number of potential FCS: \", count)\n",
        "\n",
        "    if txtfile:\n",
        "        input_handle = inputfile.split(\".\")[0]\n",
        "        output_handle = '%s_parser' %input_handle\n",
        "        df.to_csv('%s.txt' %output_handle, sep='\\t')\n",
        "        print('\\n%s.txt is done' % output_handle)\n",
        "\n",
        "        \n",
        "if __name__ == \"__main__\":\n",
        "    main()"
      ]
    },
    {
      "cell_type": "markdown",
      "source": [
        "# New Section"
      ],
      "metadata": {
        "id": "VIHKC9sCMCu2"
      }
    }
  ]
}