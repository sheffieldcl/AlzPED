{
  "nbformat": 4,
  "nbformat_minor": 0,
  "metadata": {
    "colab": {
      "name": "2 Team FAES Python Shared Notebook [current one].ipynb",
      "provenance": [],
      "collapsed_sections": [],
      "include_colab_link": true
    },
    "kernelspec": {
      "name": "python3",
      "display_name": "Python 3"
    },
    "language_info": {
      "name": "python"
    }
  },
  "cells": [
    {
      "cell_type": "markdown",
      "metadata": {
        "id": "view-in-github",
        "colab_type": "text"
      },
      "source": [
        "<a href=\"https://colab.research.google.com/github/sheffieldcl/AlzPED/blob/master/2_Team_FAES_Python_Shared_Notebook_%5Bcurrent_one%5D.ipynb\" target=\"_parent\"><img src=\"https://colab.research.google.com/assets/colab-badge.svg\" alt=\"Open In Colab\"/></a>"
      ]
    },
    {
      "cell_type": "markdown",
      "source": [
        "Remaining group members to write script for Cynthia to read"
      ],
      "metadata": {
        "id": "Y8rm7GTVJj00"
      }
    },
    {
      "cell_type": "code",
      "execution_count": null,
      "metadata": {
        "id": "vCfvAXuEJM7O"
      },
      "outputs": [],
      "source": [
        "#1 Cynthia 2. Hyun 3. Santi 4. Santi 5. Hyun 6. Cynthia\n",
        " \n"
      ]
    },
    {
      "cell_type": "markdown",
      "source": [
        "Github upload from Cynthia's cleaned data\n",
        "https://github.com/hcpy/lungcancer/blob/main/Trimmed%20Data%20Set%20for%20Team%20Project.csv\n",
        "\n",
        "# Data link\n",
        "# https://figshare.com/articles/dataset/Pesticide_and_lung_cancer/12356270?file=26424602\n",
        "\n",
        "\n",
        "\n",
        "#What is the likelihood of getting lung cancer from a) smoking b) pesticides c) both\n",
        "\n",
        "\n",
        "\n",
        "\n",
        "Other group members: write script for Cynthia to read for the video recording\n"
      ],
      "metadata": {
        "id": "B0xiA7wtrimu"
      }
    },
    {
      "cell_type": "code",
      "source": [
        "#data mount\n",
        "\n",
        "import os\n",
        "from google.colab import drive\n",
        "drive.mount('/content/drive/')\n",
        "os.chdir(\"/content/drive/My Drive/FAES_BIOF309\")"
      ],
      "metadata": {
        "id": "8ypkiaDCgo9d"
      },
      "execution_count": null,
      "outputs": []
    },
    {
      "cell_type": "markdown",
      "source": [
        "#1 Cynthia"
      ],
      "metadata": {
        "id": "QP9iRU8CalTW"
      }
    },
    {
      "cell_type": "code",
      "source": [
        "#1 Cynthia\n",
        "#Set the data sets to a value or arguement, examine the data sets and combine them.\n",
        "! ls -lsth /content/Team2/"
      ],
      "metadata": {
        "id": "iaaTphthJnps",
        "colab": {
          "base_uri": "https://localhost:8080/"
        },
        "outputId": "62be033d-b6ab-4a1f-a000-8eb14255ebff"
      },
      "execution_count": null,
      "outputs": [
        {
          "output_type": "stream",
          "name": "stdout",
          "text": [
            "total 32K\n",
            "16K -rw-r--r-- 1 root root 15K Jul 22 20:06 Smoker.csv\n",
            "16K -rw-r--r-- 1 root root 15K Jul 22 19:56 Gephosate.csv\n"
          ]
        }
      ]
    },
    {
      "cell_type": "code",
      "source": [
        "! head Smoker.csv\n",
        "! head Gephosate.csv\n",
        "! tail Smoker.csv\n",
        "! tail Gephosate.csv\n",
        "\n"
      ],
      "metadata": {
        "colab": {
          "base_uri": "https://localhost:8080/"
        },
        "id": "0yhEyL4mtcYB",
        "outputId": "0e925dc4-e79f-4404-8482-edb08f95c859"
      },
      "execution_count": null,
      "outputs": [
        {
          "output_type": "stream",
          "name": "stdout",
          "text": [
            "﻿ID,LungCA,Gender,age,age_group,status,CigSmoke1,Cigarette_total\r\n",
            "1,1,1,75,4,2,1,0\r\n",
            "1.1,0,1,70,3,2,1,0\r\n",
            "1.2,0,1,72,3,2,1,0\r\n",
            "2,1,0,58,2,2,0,246375\r\n",
            "2.1,0,0,55,2,2,1,0\r\n",
            "2.2,0,0,62,2,2,1,0\r\n",
            "3,1,1,65,3,2,1,0\r\n",
            "3.1,0,1,60,2,2,1,0\r\n",
            "3.2,0,1,68,3,2,1,0\n",
            "﻿ID,LungCA,Gender,age,age_group,status,Glyphosate_use,Glyphosate_days\n",
            "1,1,1,75,4,2,0,0\n",
            "1.1,0,1,70,3,2,0,0\n",
            "1.2,0,1,72,3,2,0,0\n",
            "2,1,0,58,2,2,0,0\n",
            "2.1,0,0,55,2,2,1,160\n",
            "2.2,0,0,62,2,2,0,0\n",
            "3,1,1,65,3,2,0,0\n",
            "3.1,0,1,60,2,2,0,0\n",
            "3.2,0,1,68,3,2,0,0\n"
          ]
        }
      ]
    },
    {
      "cell_type": "code",
      "source": [
        "! cut -f 8 -d ',' /content/Team2/Smoker.csv > Cigarette_total.txt\n",
        "! head Cigarette_total.txt"
      ],
      "metadata": {
        "colab": {
          "base_uri": "https://localhost:8080/"
        },
        "id": "8icWfuKRxYAD",
        "outputId": "297b5286-1904-4f78-e48f-c8a4ee9836cd"
      },
      "execution_count": null,
      "outputs": [
        {
          "output_type": "stream",
          "name": "stdout",
          "text": [
            "cut: /content/Team2/Smoker.csv: No such file or directory\n"
          ]
        }
      ]
    },
    {
      "cell_type": "code",
      "source": [
        "! cat Smoker.csv Gephosate.csv > Lung_Disease.csv"
      ],
      "metadata": {
        "id": "IpWvF-sNyk0f"
      },
      "execution_count": null,
      "outputs": []
    },
    {
      "cell_type": "markdown",
      "source": [
        "# #2 Hyun (indents and print string expressions) ***\n",
        "\n",
        " \n",
        "\n"
      ],
      "metadata": {
        "id": "id7zBVzpai41"
      }
    },
    {
      "cell_type": "markdown",
      "source": [
        "Script for Cynthia\n",
        "In Week 2, we learned using string expressions. \n"
      ],
      "metadata": {
        "id": "CzWpszw2F5bK"
      }
    },
    {
      "cell_type": "code",
      "source": [
        "#2 Hyun\n",
        "\n",
        "#data mount\n",
        "\n",
        "import os\n",
        "from google.colab import drive\n",
        "drive.mount('/content/drive/')\n",
        "os.chdir(\"/content/drive/My Drive/FAES_BIOF309\")\n",
        "\n",
        "print(\"Hello class! Let's examine data on lung cancer and pesticides\")  \n",
        "\n",
        "# Brackets\n",
        "print (\"There are variety of factors leading to cancer\")\n",
        "\n",
        "causes = ['genetics',\n",
        "          'SES',\n",
        "          'carcinogens']\n",
        "print(causes)\n",
        "\n",
        "\"\"\"Python is awesome for programming used in cancer research\"\"\"\n",
        " "
      ],
      "metadata": {
        "id": "s-sxCM02JTvr",
        "colab": {
          "base_uri": "https://localhost:8080/",
          "height": 105
        },
        "outputId": "5f7d50c7-4edc-438f-d711-c64dcd5017c1"
      },
      "execution_count": 2,
      "outputs": [
        {
          "output_type": "stream",
          "name": "stdout",
          "text": [
            "Drive already mounted at /content/drive/; to attempt to forcibly remount, call drive.mount(\"/content/drive/\", force_remount=True).\n",
            "Hello class! Let's examine data on lung cancer and pesticides\n",
            "There are variety of factors leading to cancer\n",
            "['genetics', 'SES', 'carcinogens']\n"
          ]
        },
        {
          "output_type": "execute_result",
          "data": {
            "text/plain": [
              "'Python is awesome for programming used in cancer research'"
            ],
            "application/vnd.google.colaboratory.intrinsic+json": {
              "type": "string"
            }
          },
          "metadata": {},
          "execution_count": 2
        }
      ]
    },
    {
      "cell_type": "code",
      "source": [
        "#4. An intro to multiple indents.\n",
        "for i in ['poor genetics', 'smoking', 'poverty']:\n",
        "  for j in ['raises your cancer risk', 'contributes to your health', 'bad']:\n",
        "    print(i + \" is \" + j)"
      ],
      "metadata": {
        "id": "zm3518jwE7Pr",
        "colab": {
          "base_uri": "https://localhost:8080/"
        },
        "outputId": "bd74a155-6c5a-4554-e13a-57072b8693f2"
      },
      "execution_count": null,
      "outputs": [
        {
          "output_type": "stream",
          "name": "stdout",
          "text": [
            "poor genetics is raises your cancer risk\n",
            "poor genetics is contributes to your health\n",
            "poor genetics is bad\n",
            "smoking is raises your cancer risk\n",
            "smoking is contributes to your health\n",
            "smoking is bad\n",
            "poverty is raises your cancer risk\n",
            "poverty is contributes to your health\n",
            "poverty is bad\n"
          ]
        }
      ]
    },
    {
      "cell_type": "code",
      "source": [
        "# looping through lists.\n",
        "\n",
        "print(\"What are the contributing factors to cancer?\")\n",
        "for i in causes:\n",
        "  print(i)"
      ],
      "metadata": {
        "colab": {
          "base_uri": "https://localhost:8080/"
        },
        "id": "vXm15z4KHQ_Q",
        "outputId": "14c656a4-a3b4-4ae5-dcb1-12a9b12ec7d4"
      },
      "execution_count": null,
      "outputs": [
        {
          "output_type": "stream",
          "name": "stdout",
          "text": [
            "What are the contributing factors to cancer?\n",
            "genetics\n",
            "SES\n",
            "carcinogens\n"
          ]
        }
      ]
    },
    {
      "cell_type": "markdown",
      "source": [
        "2b: Python semantics."
      ],
      "metadata": {
        "id": "2481JOiU4Yc5"
      }
    },
    {
      "cell_type": "code",
      "source": [
        "#Explaining the data abbreviations with string expressions\n",
        "# LungCA\n",
        "print (\"The column LungCA examines Lung cancer status of responders: \")\n",
        "a = \"0 refer to control without lung cancer\"\n",
        "b= \"1 refer to case with lung cancer \"\n",
        "print(a)\n",
        "print(b)"
      ],
      "metadata": {
        "colab": {
          "base_uri": "https://localhost:8080/"
        },
        "id": "N2nulJll4ZEI",
        "outputId": "d23802df-86aa-4967-f32d-d24c5a2e4052"
      },
      "execution_count": null,
      "outputs": [
        {
          "output_type": "stream",
          "name": "stdout",
          "text": [
            "The column LungCA examines Lung cancer status of responders: \n",
            "0 refer to control without lung cancer\n",
            "1 refer to case with lung cancer \n"
          ]
        }
      ]
    },
    {
      "cell_type": "code",
      "source": [
        "print (\"How does Air_Pollution_ exposure raise risk of lung cancer development?\")\n",
        "for i in range(0,2):\n",
        "    print(i)\n",
        "\n",
        "print (\"0 refer to responders who did not exposure to air pollution.\")\n",
        "print (\"1 refer to responders who exposure to air pollution.\")\n"
      ],
      "metadata": {
        "colab": {
          "base_uri": "https://localhost:8080/"
        },
        "id": "sf5ciBtPL7fG",
        "outputId": "c65a10cc-0d4c-48c3-fe51-ad74669e2bb4"
      },
      "execution_count": null,
      "outputs": [
        {
          "output_type": "stream",
          "name": "stdout",
          "text": [
            "How does Air_Pollution_ exposure raise risk of lung cancer development?\n",
            "0\n",
            "1\n",
            "0 refer to responders who did not exposure to air pollution.\n",
            "1 refer to responders who exposure to air pollution.\n"
          ]
        }
      ]
    },
    {
      "cell_type": "markdown",
      "source": [
        ""
      ],
      "metadata": {
        "id": "pWLfIz-ROgNK"
      }
    },
    {
      "cell_type": "code",
      "source": [
        "# 8. Combine strings and paste.\n",
        "a = \"Variable: Air Pollution explained \"\n",
        "b = \"0 refer to responders who did not exposure to air pollution.  \"\n",
        "c = \"1 refer to responders who exposure to air pollution.\"\n",
        "\n",
        "print (a  + b + c)"
      ],
      "metadata": {
        "colab": {
          "base_uri": "https://localhost:8080/"
        },
        "id": "uVHZdKLiuRjU",
        "outputId": "27d58620-9344-437c-88c8-b293ec0f2710"
      },
      "execution_count": null,
      "outputs": [
        {
          "output_type": "stream",
          "name": "stdout",
          "text": [
            "Variable: Air Pollution explained 0 refer to responders who did not exposure to air pollution.  1 refer to responders who exposure to air pollution.\n"
          ]
        }
      ]
    },
    {
      "cell_type": "code",
      "source": [
        "print (\"Responders’ exposure to air pollution from various sources, e.g. working in factory with air pollution (asbestos, diesel engine exhaust, silica, wood dust, painting and welding exposure), \")\n",
        "\n",
        "for i in ['asbestos', 'diesel', 'lead paint']:\n",
        "  for j in ['bad', 'carcinogenic', 'unpleasant']:\n",
        "    print(i + \" is \" + j)"
      ],
      "metadata": {
        "colab": {
          "base_uri": "https://localhost:8080/"
        },
        "id": "6ueHG2JIOlxs",
        "outputId": "c0a823d1-05f9-4ec2-d599-cba165645fd5"
      },
      "execution_count": null,
      "outputs": [
        {
          "output_type": "stream",
          "name": "stdout",
          "text": [
            "Responders’ exposure to air pollution from various sources, e.g. working in factory with air pollution (asbestos, diesel engine exhaust, silica, wood dust, painting and welding exposure), \n",
            "asbestos is bad\n",
            "asbestos is carcinogenic\n",
            "asbestos is unpleasant\n",
            "diesel is bad\n",
            "diesel is carcinogenic\n",
            "diesel is unpleasant\n",
            "lead paint is bad\n",
            "lead paint is carcinogenic\n",
            "lead paint is unpleasant\n"
          ]
        }
      ]
    },
    {
      "cell_type": "markdown",
      "source": [
        ""
      ],
      "metadata": {
        "id": "peqdTt2oOlhg"
      }
    },
    {
      "cell_type": "markdown",
      "source": [
        "#3 Santiago"
      ],
      "metadata": {
        "id": "J4MXpum0Zo0u"
      }
    },
    {
      "cell_type": "code",
      "source": [
        "# (Cynthia) Module 3 = Make a list, count the list, make a truple, create a dictionary from the truple, create If, Elif, Else statements, incorporate a While loop, creat a Break in the While loop.\n",
        "#Create a list of patients who smoke\n",
        "Risk factors = ['smoker', '']"
      ],
      "metadata": {
        "id": "YdnXwY3AJUnb"
      },
      "execution_count": null,
      "outputs": []
    },
    {
      "cell_type": "markdown",
      "source": [
        "#4 Santiago"
      ],
      "metadata": {
        "id": "MttjThXS0-sX"
      }
    },
    {
      "cell_type": "code",
      "source": [
        "#4 Santiago"
      ],
      "metadata": {
        "id": "Ha68xOe8JVPs"
      },
      "execution_count": null,
      "outputs": []
    },
    {
      "cell_type": "markdown",
      "source": [
        ""
      ],
      "metadata": {
        "id": "f_skKMZ0aqhS"
      }
    },
    {
      "cell_type": "markdown",
      "source": [
        ""
      ],
      "metadata": {
        "id": "yIGXZjrB09IS"
      }
    },
    {
      "cell_type": "markdown",
      "source": [
        "#5 Hyun (5a: Numpy and Pandas)"
      ],
      "metadata": {
        "id": "tTLLco5BasY4"
      }
    },
    {
      "cell_type": "code",
      "source": [
        "#5 Hyun Instructional DEMO 5a: Numpy and Pandas\n",
        "import pandas as pd\n",
        "import numpy as np\n",
        "! pip install --upgrade tables\n",
        "\n",
        "#data mount\n",
        "\n",
        "import os\n",
        "from google.colab import drive\n",
        "drive.mount('/content/drive/')\n",
        "os.chdir(\"/content/drive/My Drive/FAES_BIOF309\")"
      ],
      "metadata": {
        "id": "9cZsiiKSJWQg",
        "colab": {
          "base_uri": "https://localhost:8080/"
        },
        "outputId": "8a703710-ec9f-48b2-b3f2-316143183564"
      },
      "execution_count": null,
      "outputs": [
        {
          "output_type": "stream",
          "name": "stdout",
          "text": [
            "Looking in indexes: https://pypi.org/simple, https://us-python.pkg.dev/colab-wheels/public/simple/\n",
            "Requirement already satisfied: tables in /usr/local/lib/python3.7/dist-packages (3.7.0)\n",
            "Requirement already satisfied: numpy>=1.19.0 in /usr/local/lib/python3.7/dist-packages (from tables) (1.21.6)\n",
            "Requirement already satisfied: packaging in /usr/local/lib/python3.7/dist-packages (from tables) (21.3)\n",
            "Requirement already satisfied: numexpr>=2.6.2 in /usr/local/lib/python3.7/dist-packages (from tables) (2.8.3)\n",
            "Requirement already satisfied: pyparsing!=3.0.5,>=2.0.2 in /usr/local/lib/python3.7/dist-packages (from packaging->tables) (3.0.9)\n",
            "Mounted at /content/drive/\n"
          ]
        }
      ]
    },
    {
      "cell_type": "code",
      "source": [
        " ! head (\"/content/My Drive/FAES_BIOF309/Project_data/TrimmedDataSet.csv\")"
      ],
      "metadata": {
        "colab": {
          "base_uri": "https://localhost:8080/"
        },
        "id": "ivvse_zQ2F-u",
        "outputId": "0dd537f6-9eae-43fa-f5c0-8743738a4d99"
      },
      "execution_count": null,
      "outputs": [
        {
          "output_type": "stream",
          "name": "stdout",
          "text": [
            "/bin/bash: -c: line 0: syntax error near unexpected token `\"/content/My Drive/FAES_BIOF309/Project_data/TrimmedDataSet.csv\"'\n",
            "/bin/bash: -c: line 0: ` head (\"/content/My Drive/FAES_BIOF309/Project_data/TrimmedDataSet.csv\")'\n"
          ]
        }
      ]
    },
    {
      "cell_type": "markdown",
      "source": [
        "5b: Data visualization"
      ],
      "metadata": {
        "id": "tS5tYCep4-Ik"
      }
    },
    {
      "cell_type": "code",
      "source": [
        "import os\n",
        "from google.colab import drive\n",
        "drive.mount('/content/drive/')\n",
        "os.chdir(\"/content/drive/My Drive/FAES_BIOF309/\")"
      ],
      "metadata": {
        "colab": {
          "base_uri": "https://localhost:8080/"
        },
        "id": "xJJwdrCB2nH-",
        "outputId": "d682b5cd-f159-4ff6-85dd-1181d9ae7931"
      },
      "execution_count": null,
      "outputs": [
        {
          "output_type": "stream",
          "name": "stdout",
          "text": [
            "Drive already mounted at /content/drive/; to attempt to forcibly remount, call drive.mount(\"/content/drive/\", force_remount=True).\n"
          ]
        }
      ]
    },
    {
      "cell_type": "code",
      "source": [
        "import pandas as pd\n",
        "import seaborn as sns\n",
        "import matplotlib as plt\n",
        "import numpy as np"
      ],
      "metadata": {
        "id": "x0TMrNVC5C_t"
      },
      "execution_count": null,
      "outputs": []
    },
    {
      "cell_type": "markdown",
      "source": [
        "Ask Prof. Why the csv file did not run\n",
        "https://github.com/hcpy/lungcancer/blob/main/Trimmed%20Data%20Set%20for%20Team%20Project.csv\n"
      ],
      "metadata": {
        "id": "kvJmihLP_QYY"
      }
    },
    {
      "cell_type": "code",
      "source": [
        "pip install git+https://github.com/hcpy/lungcancer.git\n",
        "age = sns.load_dataset(\"lungcancer\")\n",
        "  "
      ],
      "metadata": {
        "colab": {
          "base_uri": "https://localhost:8080/",
          "height": 132
        },
        "id": "7kjpRft25eQn",
        "outputId": "462d79dc-4d65-494c-eabd-e8e457456d59"
      },
      "execution_count": null,
      "outputs": [
        {
          "output_type": "error",
          "ename": "SyntaxError",
          "evalue": "ignored",
          "traceback": [
            "\u001b[0;36m  File \u001b[0;32m\"<ipython-input-8-5e0e8bf57089>\"\u001b[0;36m, line \u001b[0;32m1\u001b[0m\n\u001b[0;31m    pip install git+https://github.com/hcpy/lungcancer.git\u001b[0m\n\u001b[0m              ^\u001b[0m\n\u001b[0;31mSyntaxError\u001b[0m\u001b[0;31m:\u001b[0m invalid syntax\n"
          ]
        }
      ]
    },
    {
      "cell_type": "code",
      "source": [
        "projectdata = sns.load_dataset(\"Trimmed Data Set for Team Project.csv)"
      ],
      "metadata": {
        "colab": {
          "base_uri": "https://localhost:8080/",
          "height": 132
        },
        "id": "ZA6b8hAW8k-f",
        "outputId": "23f6be45-14f2-44c6-e6d9-a851bd7a39bc"
      },
      "execution_count": null,
      "outputs": [
        {
          "output_type": "error",
          "ename": "SyntaxError",
          "evalue": "ignored",
          "traceback": [
            "\u001b[0;36m  File \u001b[0;32m\"<ipython-input-221-aa9cdb7ac374>\"\u001b[0;36m, line \u001b[0;32m1\u001b[0m\n\u001b[0;31m    projectdata = sns.load_dataset(\"Trimmed Data Set for Team Project.csv)\u001b[0m\n\u001b[0m                                                                          ^\u001b[0m\n\u001b[0;31mSyntaxError\u001b[0m\u001b[0;31m:\u001b[0m EOL while scanning string literal\n"
          ]
        }
      ]
    },
    {
      "cell_type": "code",
      "source": [
        "age = sns.load_dataset(\"age\")"
      ],
      "metadata": {
        "colab": {
          "base_uri": "https://localhost:8080/",
          "height": 288
        },
        "id": "gP_vVR1UB9IC",
        "outputId": "566846aa-b5b3-4e96-c60b-a235907700c9"
      },
      "execution_count": null,
      "outputs": [
        {
          "output_type": "error",
          "ename": "ValueError",
          "evalue": "ignored",
          "traceback": [
            "\u001b[0;31m---------------------------------------------------------------------------\u001b[0m",
            "\u001b[0;31mValueError\u001b[0m                                Traceback (most recent call last)",
            "\u001b[0;32m<ipython-input-222-b8d06edced34>\u001b[0m in \u001b[0;36m<module>\u001b[0;34m()\u001b[0m\n\u001b[0;32m----> 1\u001b[0;31m \u001b[0mage\u001b[0m \u001b[0;34m=\u001b[0m \u001b[0msns\u001b[0m\u001b[0;34m.\u001b[0m\u001b[0mload_dataset\u001b[0m\u001b[0;34m(\u001b[0m\u001b[0;34m\"age\"\u001b[0m\u001b[0;34m)\u001b[0m\u001b[0;34m\u001b[0m\u001b[0;34m\u001b[0m\u001b[0m\n\u001b[0m",
            "\u001b[0;32m/usr/local/lib/python3.7/dist-packages/seaborn/utils.py\u001b[0m in \u001b[0;36mload_dataset\u001b[0;34m(name, cache, data_home, **kws)\u001b[0m\n\u001b[1;32m    593\u001b[0m \u001b[0;34m\u001b[0m\u001b[0m\n\u001b[1;32m    594\u001b[0m     \u001b[0;32mif\u001b[0m \u001b[0mname\u001b[0m \u001b[0;34m==\u001b[0m \u001b[0;34m\"tips\"\u001b[0m\u001b[0;34m:\u001b[0m\u001b[0;34m\u001b[0m\u001b[0;34m\u001b[0m\u001b[0m\n\u001b[0;32m--> 595\u001b[0;31m         \u001b[0mdf\u001b[0m\u001b[0;34m[\u001b[0m\u001b[0;34m\"day\"\u001b[0m\u001b[0;34m]\u001b[0m \u001b[0;34m=\u001b[0m \u001b[0mpd\u001b[0m\u001b[0;34m.\u001b[0m\u001b[0mCategorical\u001b[0m\u001b[0;34m(\u001b[0m\u001b[0mdf\u001b[0m\u001b[0;34m[\u001b[0m\u001b[0;34m\"day\"\u001b[0m\u001b[0;34m]\u001b[0m\u001b[0;34m,\u001b[0m \u001b[0;34m[\u001b[0m\u001b[0;34m\"Thur\"\u001b[0m\u001b[0;34m,\u001b[0m \u001b[0;34m\"Fri\"\u001b[0m\u001b[0;34m,\u001b[0m \u001b[0;34m\"Sat\"\u001b[0m\u001b[0;34m,\u001b[0m \u001b[0;34m\"Sun\"\u001b[0m\u001b[0;34m]\u001b[0m\u001b[0;34m)\u001b[0m\u001b[0;34m\u001b[0m\u001b[0;34m\u001b[0m\u001b[0m\n\u001b[0m\u001b[1;32m    596\u001b[0m         \u001b[0mdf\u001b[0m\u001b[0;34m[\u001b[0m\u001b[0;34m\"sex\"\u001b[0m\u001b[0;34m]\u001b[0m \u001b[0;34m=\u001b[0m \u001b[0mpd\u001b[0m\u001b[0;34m.\u001b[0m\u001b[0mCategorical\u001b[0m\u001b[0;34m(\u001b[0m\u001b[0mdf\u001b[0m\u001b[0;34m[\u001b[0m\u001b[0;34m\"sex\"\u001b[0m\u001b[0;34m]\u001b[0m\u001b[0;34m,\u001b[0m \u001b[0;34m[\u001b[0m\u001b[0;34m\"Male\"\u001b[0m\u001b[0;34m,\u001b[0m \u001b[0;34m\"Female\"\u001b[0m\u001b[0;34m]\u001b[0m\u001b[0;34m)\u001b[0m\u001b[0;34m\u001b[0m\u001b[0;34m\u001b[0m\u001b[0m\n\u001b[1;32m    597\u001b[0m         \u001b[0mdf\u001b[0m\u001b[0;34m[\u001b[0m\u001b[0;34m\"time\"\u001b[0m\u001b[0;34m]\u001b[0m \u001b[0;34m=\u001b[0m \u001b[0mpd\u001b[0m\u001b[0;34m.\u001b[0m\u001b[0mCategorical\u001b[0m\u001b[0;34m(\u001b[0m\u001b[0mdf\u001b[0m\u001b[0;34m[\u001b[0m\u001b[0;34m\"time\"\u001b[0m\u001b[0;34m]\u001b[0m\u001b[0;34m,\u001b[0m \u001b[0;34m[\u001b[0m\u001b[0;34m\"Lunch\"\u001b[0m\u001b[0;34m,\u001b[0m \u001b[0;34m\"Dinner\"\u001b[0m\u001b[0;34m]\u001b[0m\u001b[0;34m)\u001b[0m\u001b[0;34m\u001b[0m\u001b[0;34m\u001b[0m\u001b[0m\n",
            "\u001b[0;31mValueError\u001b[0m: 'age' is not one of the example datasets."
          ]
        }
      ]
    },
    {
      "cell_type": "code",
      "source": [
        "lungcancer = sns.load_dataset(\"lungcancer\")\n",
        "lungcancer.head()"
      ],
      "metadata": {
        "colab": {
          "base_uri": "https://localhost:8080/",
          "height": 305
        },
        "id": "AqaHCHhOCYN-",
        "outputId": "ef35303b-49be-45ec-f81d-691d64f93ea2"
      },
      "execution_count": null,
      "outputs": [
        {
          "output_type": "error",
          "ename": "ValueError",
          "evalue": "ignored",
          "traceback": [
            "\u001b[0;31m---------------------------------------------------------------------------\u001b[0m",
            "\u001b[0;31mValueError\u001b[0m                                Traceback (most recent call last)",
            "\u001b[0;32m<ipython-input-223-682166557b67>\u001b[0m in \u001b[0;36m<module>\u001b[0;34m()\u001b[0m\n\u001b[0;32m----> 1\u001b[0;31m \u001b[0mlungcancer\u001b[0m \u001b[0;34m=\u001b[0m \u001b[0msns\u001b[0m\u001b[0;34m.\u001b[0m\u001b[0mload_dataset\u001b[0m\u001b[0;34m(\u001b[0m\u001b[0;34m\"lungcancer\"\u001b[0m\u001b[0;34m)\u001b[0m\u001b[0;34m\u001b[0m\u001b[0;34m\u001b[0m\u001b[0m\n\u001b[0m\u001b[1;32m      2\u001b[0m \u001b[0mlungcancer\u001b[0m\u001b[0;34m.\u001b[0m\u001b[0mhead\u001b[0m\u001b[0;34m(\u001b[0m\u001b[0;34m)\u001b[0m\u001b[0;34m\u001b[0m\u001b[0;34m\u001b[0m\u001b[0m\n",
            "\u001b[0;32m/usr/local/lib/python3.7/dist-packages/seaborn/utils.py\u001b[0m in \u001b[0;36mload_dataset\u001b[0;34m(name, cache, data_home, **kws)\u001b[0m\n\u001b[1;32m    593\u001b[0m \u001b[0;34m\u001b[0m\u001b[0m\n\u001b[1;32m    594\u001b[0m     \u001b[0;32mif\u001b[0m \u001b[0mname\u001b[0m \u001b[0;34m==\u001b[0m \u001b[0;34m\"tips\"\u001b[0m\u001b[0;34m:\u001b[0m\u001b[0;34m\u001b[0m\u001b[0;34m\u001b[0m\u001b[0m\n\u001b[0;32m--> 595\u001b[0;31m         \u001b[0mdf\u001b[0m\u001b[0;34m[\u001b[0m\u001b[0;34m\"day\"\u001b[0m\u001b[0;34m]\u001b[0m \u001b[0;34m=\u001b[0m \u001b[0mpd\u001b[0m\u001b[0;34m.\u001b[0m\u001b[0mCategorical\u001b[0m\u001b[0;34m(\u001b[0m\u001b[0mdf\u001b[0m\u001b[0;34m[\u001b[0m\u001b[0;34m\"day\"\u001b[0m\u001b[0;34m]\u001b[0m\u001b[0;34m,\u001b[0m \u001b[0;34m[\u001b[0m\u001b[0;34m\"Thur\"\u001b[0m\u001b[0;34m,\u001b[0m \u001b[0;34m\"Fri\"\u001b[0m\u001b[0;34m,\u001b[0m \u001b[0;34m\"Sat\"\u001b[0m\u001b[0;34m,\u001b[0m \u001b[0;34m\"Sun\"\u001b[0m\u001b[0;34m]\u001b[0m\u001b[0;34m)\u001b[0m\u001b[0;34m\u001b[0m\u001b[0;34m\u001b[0m\u001b[0m\n\u001b[0m\u001b[1;32m    596\u001b[0m         \u001b[0mdf\u001b[0m\u001b[0;34m[\u001b[0m\u001b[0;34m\"sex\"\u001b[0m\u001b[0;34m]\u001b[0m \u001b[0;34m=\u001b[0m \u001b[0mpd\u001b[0m\u001b[0;34m.\u001b[0m\u001b[0mCategorical\u001b[0m\u001b[0;34m(\u001b[0m\u001b[0mdf\u001b[0m\u001b[0;34m[\u001b[0m\u001b[0;34m\"sex\"\u001b[0m\u001b[0;34m]\u001b[0m\u001b[0;34m,\u001b[0m \u001b[0;34m[\u001b[0m\u001b[0;34m\"Male\"\u001b[0m\u001b[0;34m,\u001b[0m \u001b[0;34m\"Female\"\u001b[0m\u001b[0;34m]\u001b[0m\u001b[0;34m)\u001b[0m\u001b[0;34m\u001b[0m\u001b[0;34m\u001b[0m\u001b[0m\n\u001b[1;32m    597\u001b[0m         \u001b[0mdf\u001b[0m\u001b[0;34m[\u001b[0m\u001b[0;34m\"time\"\u001b[0m\u001b[0;34m]\u001b[0m \u001b[0;34m=\u001b[0m \u001b[0mpd\u001b[0m\u001b[0;34m.\u001b[0m\u001b[0mCategorical\u001b[0m\u001b[0;34m(\u001b[0m\u001b[0mdf\u001b[0m\u001b[0;34m[\u001b[0m\u001b[0;34m\"time\"\u001b[0m\u001b[0;34m]\u001b[0m\u001b[0;34m,\u001b[0m \u001b[0;34m[\u001b[0m\u001b[0;34m\"Lunch\"\u001b[0m\u001b[0;34m,\u001b[0m \u001b[0;34m\"Dinner\"\u001b[0m\u001b[0;34m]\u001b[0m\u001b[0;34m)\u001b[0m\u001b[0;34m\u001b[0m\u001b[0;34m\u001b[0m\u001b[0m\n",
            "\u001b[0;31mValueError\u001b[0m: 'lungcancer' is not one of the example datasets."
          ]
        }
      ]
    },
    {
      "cell_type": "code",
      "source": [
        "test_df = pd.read_csv(\"/content/MyDrive/FAES_BIO309/Project_data/TrimmedDataSet.csv\")\n",
        "test_df = pd.read_csv(\"(\"/content/drive/My Drive/FAES_BIOF309/example_data/discrete/training_addit.csv\")\")"
      ],
      "metadata": {
        "colab": {
          "base_uri": "https://localhost:8080/",
          "height": 132
        },
        "id": "kIrWVGorCqx5",
        "outputId": "268dab56-0e03-4772-9e2d-1cc7d1aaa47f"
      },
      "execution_count": null,
      "outputs": [
        {
          "output_type": "error",
          "ename": "SyntaxError",
          "evalue": "ignored",
          "traceback": [
            "\u001b[0;36m  File \u001b[0;32m\"<ipython-input-224-3ea6a37cd094>\"\u001b[0;36m, line \u001b[0;32m2\u001b[0m\n\u001b[0;31m    test_df = pd.read_csv(\"(\"/content/drive/My Drive/FAES_BIOF309/example_data/discrete/training_addit.csv\")\")\u001b[0m\n\u001b[0m                                                   ^\u001b[0m\n\u001b[0;31mSyntaxError\u001b[0m\u001b[0;31m:\u001b[0m invalid syntax\n"
          ]
        }
      ]
    },
    {
      "cell_type": "markdown",
      "source": [
        "Ask prof of Line 20"
      ],
      "metadata": {
        "id": "MZhdZLb_WgNH"
      }
    },
    {
      "cell_type": "code",
      "source": [
        "print (\"Age_group variable explained\")\n",
        "import numpy as np\n",
        "# List of values for the age groups\n",
        "\n",
        "L = [1, 2, 3, 4]  \n",
        "array = np.array(L)  \n",
        "array\n",
        "\n",
        "print (\"1 refers to those with age less than or equal to 54, \")\n",
        "print (\"2 refer to those with age 55-64 yr, \")\n",
        "print (\"3 refer to those with age 65-74 yr, \")\n",
        "print (\"4 refer to those with age 75 yr or more \")"
      ],
      "metadata": {
        "id": "ZA_bqVyvQspq",
        "colab": {
          "base_uri": "https://localhost:8080/"
        },
        "outputId": "b7c13193-aa89-471b-c5d6-e208fc157a69"
      },
      "execution_count": null,
      "outputs": [
        {
          "output_type": "stream",
          "name": "stdout",
          "text": [
            "Age_group variable explained\n",
            "1 refers to those with age less than or equal to 54, \n",
            "2 refer to those with age 55-64 yr, \n",
            "3 refer to those with age 65-74 yr, \n",
            "4 refer to those with age 75 yr or more \n"
          ]
        }
      ]
    },
    {
      "cell_type": "code",
      "source": [
        "#numpy array of strings\n",
        "print (\"Marital status of the responders, \")\n",
        "np.array(['1 refer to those who are single, ','2 refer to those who are married, ','3 refer to those who are divorced/spouse passed away/separated'])"
      ],
      "metadata": {
        "colab": {
          "base_uri": "https://localhost:8080/"
        },
        "id": "T7RCAJz0XI17",
        "outputId": "0ad79f49-b856-4587-e432-e1e8f97e11be"
      },
      "execution_count": null,
      "outputs": [
        {
          "output_type": "stream",
          "name": "stdout",
          "text": [
            "Marital status of the responders, \n"
          ]
        },
        {
          "output_type": "execute_result",
          "data": {
            "text/plain": [
              "array(['1 refer to those who are single, ',\n",
              "       '2 refer to those who are married, ',\n",
              "       '3 refer to those who are divorced/spouse passed away/separated'],\n",
              "      dtype='<U62')"
            ]
          },
          "metadata": {},
          "execution_count": 21
        }
      ]
    },
    {
      "cell_type": "markdown",
      "source": [
        "Ask Prof Line 27"
      ],
      "metadata": {
        "id": "6iKItoQ-Y2_v"
      }
    },
    {
      "cell_type": "code",
      "source": [
        "#transpose data\n",
        "import pandas as pd\n",
        "long_df = pd.read_csv(\"/MyDrive/2FAES_Python/TrimmedDataSet.csv\", engine='c')\n",
        "long_df.head()"
      ],
      "metadata": {
        "colab": {
          "base_uri": "https://localhost:8080/",
          "height": 381
        },
        "id": "738LccN3Xjms",
        "outputId": "aef5c9df-b0a6-40b5-e29e-54c66cd72338"
      },
      "execution_count": null,
      "outputs": [
        {
          "output_type": "error",
          "ename": "FileNotFoundError",
          "evalue": "ignored",
          "traceback": [
            "\u001b[0;31m---------------------------------------------------------------------------\u001b[0m",
            "\u001b[0;31mFileNotFoundError\u001b[0m                         Traceback (most recent call last)",
            "\u001b[0;32m<ipython-input-31-e91dbe77ddf1>\u001b[0m in \u001b[0;36m<module>\u001b[0;34m()\u001b[0m\n\u001b[1;32m      1\u001b[0m \u001b[0;31m#transpose data\u001b[0m\u001b[0;34m\u001b[0m\u001b[0;34m\u001b[0m\u001b[0;34m\u001b[0m\u001b[0m\n\u001b[1;32m      2\u001b[0m \u001b[0;32mimport\u001b[0m \u001b[0mpandas\u001b[0m \u001b[0;32mas\u001b[0m \u001b[0mpd\u001b[0m\u001b[0;34m\u001b[0m\u001b[0;34m\u001b[0m\u001b[0m\n\u001b[0;32m----> 3\u001b[0;31m \u001b[0mlong_df\u001b[0m \u001b[0;34m=\u001b[0m \u001b[0mpd\u001b[0m\u001b[0;34m.\u001b[0m\u001b[0mread_csv\u001b[0m\u001b[0;34m(\u001b[0m\u001b[0;34m\"/MyDrive/2FAES_Python/TrimmedDataSet.csv\"\u001b[0m\u001b[0;34m,\u001b[0m \u001b[0mengine\u001b[0m\u001b[0;34m=\u001b[0m\u001b[0;34m'c'\u001b[0m\u001b[0;34m)\u001b[0m\u001b[0;34m\u001b[0m\u001b[0;34m\u001b[0m\u001b[0m\n\u001b[0m\u001b[1;32m      4\u001b[0m \u001b[0mlong_df\u001b[0m\u001b[0;34m.\u001b[0m\u001b[0mhead\u001b[0m\u001b[0;34m(\u001b[0m\u001b[0;34m)\u001b[0m\u001b[0;34m\u001b[0m\u001b[0;34m\u001b[0m\u001b[0m\n",
            "\u001b[0;32m/usr/local/lib/python3.7/dist-packages/pandas/util/_decorators.py\u001b[0m in \u001b[0;36mwrapper\u001b[0;34m(*args, **kwargs)\u001b[0m\n\u001b[1;32m    309\u001b[0m                     \u001b[0mstacklevel\u001b[0m\u001b[0;34m=\u001b[0m\u001b[0mstacklevel\u001b[0m\u001b[0;34m,\u001b[0m\u001b[0;34m\u001b[0m\u001b[0;34m\u001b[0m\u001b[0m\n\u001b[1;32m    310\u001b[0m                 )\n\u001b[0;32m--> 311\u001b[0;31m             \u001b[0;32mreturn\u001b[0m \u001b[0mfunc\u001b[0m\u001b[0;34m(\u001b[0m\u001b[0;34m*\u001b[0m\u001b[0margs\u001b[0m\u001b[0;34m,\u001b[0m \u001b[0;34m**\u001b[0m\u001b[0mkwargs\u001b[0m\u001b[0;34m)\u001b[0m\u001b[0;34m\u001b[0m\u001b[0;34m\u001b[0m\u001b[0m\n\u001b[0m\u001b[1;32m    312\u001b[0m \u001b[0;34m\u001b[0m\u001b[0m\n\u001b[1;32m    313\u001b[0m         \u001b[0;32mreturn\u001b[0m \u001b[0mwrapper\u001b[0m\u001b[0;34m\u001b[0m\u001b[0;34m\u001b[0m\u001b[0m\n",
            "\u001b[0;32m/usr/local/lib/python3.7/dist-packages/pandas/io/parsers/readers.py\u001b[0m in \u001b[0;36mread_csv\u001b[0;34m(filepath_or_buffer, sep, delimiter, header, names, index_col, usecols, squeeze, prefix, mangle_dupe_cols, dtype, engine, converters, true_values, false_values, skipinitialspace, skiprows, skipfooter, nrows, na_values, keep_default_na, na_filter, verbose, skip_blank_lines, parse_dates, infer_datetime_format, keep_date_col, date_parser, dayfirst, cache_dates, iterator, chunksize, compression, thousands, decimal, lineterminator, quotechar, quoting, doublequote, escapechar, comment, encoding, encoding_errors, dialect, error_bad_lines, warn_bad_lines, on_bad_lines, delim_whitespace, low_memory, memory_map, float_precision, storage_options)\u001b[0m\n\u001b[1;32m    584\u001b[0m     \u001b[0mkwds\u001b[0m\u001b[0;34m.\u001b[0m\u001b[0mupdate\u001b[0m\u001b[0;34m(\u001b[0m\u001b[0mkwds_defaults\u001b[0m\u001b[0;34m)\u001b[0m\u001b[0;34m\u001b[0m\u001b[0;34m\u001b[0m\u001b[0m\n\u001b[1;32m    585\u001b[0m \u001b[0;34m\u001b[0m\u001b[0m\n\u001b[0;32m--> 586\u001b[0;31m     \u001b[0;32mreturn\u001b[0m \u001b[0m_read\u001b[0m\u001b[0;34m(\u001b[0m\u001b[0mfilepath_or_buffer\u001b[0m\u001b[0;34m,\u001b[0m \u001b[0mkwds\u001b[0m\u001b[0;34m)\u001b[0m\u001b[0;34m\u001b[0m\u001b[0;34m\u001b[0m\u001b[0m\n\u001b[0m\u001b[1;32m    587\u001b[0m \u001b[0;34m\u001b[0m\u001b[0m\n\u001b[1;32m    588\u001b[0m \u001b[0;34m\u001b[0m\u001b[0m\n",
            "\u001b[0;32m/usr/local/lib/python3.7/dist-packages/pandas/io/parsers/readers.py\u001b[0m in \u001b[0;36m_read\u001b[0;34m(filepath_or_buffer, kwds)\u001b[0m\n\u001b[1;32m    480\u001b[0m \u001b[0;34m\u001b[0m\u001b[0m\n\u001b[1;32m    481\u001b[0m     \u001b[0;31m# Create the parser.\u001b[0m\u001b[0;34m\u001b[0m\u001b[0;34m\u001b[0m\u001b[0;34m\u001b[0m\u001b[0m\n\u001b[0;32m--> 482\u001b[0;31m     \u001b[0mparser\u001b[0m \u001b[0;34m=\u001b[0m \u001b[0mTextFileReader\u001b[0m\u001b[0;34m(\u001b[0m\u001b[0mfilepath_or_buffer\u001b[0m\u001b[0;34m,\u001b[0m \u001b[0;34m**\u001b[0m\u001b[0mkwds\u001b[0m\u001b[0;34m)\u001b[0m\u001b[0;34m\u001b[0m\u001b[0;34m\u001b[0m\u001b[0m\n\u001b[0m\u001b[1;32m    483\u001b[0m \u001b[0;34m\u001b[0m\u001b[0m\n\u001b[1;32m    484\u001b[0m     \u001b[0;32mif\u001b[0m \u001b[0mchunksize\u001b[0m \u001b[0;32mor\u001b[0m \u001b[0miterator\u001b[0m\u001b[0;34m:\u001b[0m\u001b[0;34m\u001b[0m\u001b[0;34m\u001b[0m\u001b[0m\n",
            "\u001b[0;32m/usr/local/lib/python3.7/dist-packages/pandas/io/parsers/readers.py\u001b[0m in \u001b[0;36m__init__\u001b[0;34m(self, f, engine, **kwds)\u001b[0m\n\u001b[1;32m    809\u001b[0m             \u001b[0mself\u001b[0m\u001b[0;34m.\u001b[0m\u001b[0moptions\u001b[0m\u001b[0;34m[\u001b[0m\u001b[0;34m\"has_index_names\"\u001b[0m\u001b[0;34m]\u001b[0m \u001b[0;34m=\u001b[0m \u001b[0mkwds\u001b[0m\u001b[0;34m[\u001b[0m\u001b[0;34m\"has_index_names\"\u001b[0m\u001b[0;34m]\u001b[0m\u001b[0;34m\u001b[0m\u001b[0;34m\u001b[0m\u001b[0m\n\u001b[1;32m    810\u001b[0m \u001b[0;34m\u001b[0m\u001b[0m\n\u001b[0;32m--> 811\u001b[0;31m         \u001b[0mself\u001b[0m\u001b[0;34m.\u001b[0m\u001b[0m_engine\u001b[0m \u001b[0;34m=\u001b[0m \u001b[0mself\u001b[0m\u001b[0;34m.\u001b[0m\u001b[0m_make_engine\u001b[0m\u001b[0;34m(\u001b[0m\u001b[0mself\u001b[0m\u001b[0;34m.\u001b[0m\u001b[0mengine\u001b[0m\u001b[0;34m)\u001b[0m\u001b[0;34m\u001b[0m\u001b[0;34m\u001b[0m\u001b[0m\n\u001b[0m\u001b[1;32m    812\u001b[0m \u001b[0;34m\u001b[0m\u001b[0m\n\u001b[1;32m    813\u001b[0m     \u001b[0;32mdef\u001b[0m \u001b[0mclose\u001b[0m\u001b[0;34m(\u001b[0m\u001b[0mself\u001b[0m\u001b[0;34m)\u001b[0m\u001b[0;34m:\u001b[0m\u001b[0;34m\u001b[0m\u001b[0;34m\u001b[0m\u001b[0m\n",
            "\u001b[0;32m/usr/local/lib/python3.7/dist-packages/pandas/io/parsers/readers.py\u001b[0m in \u001b[0;36m_make_engine\u001b[0;34m(self, engine)\u001b[0m\n\u001b[1;32m   1038\u001b[0m             )\n\u001b[1;32m   1039\u001b[0m         \u001b[0;31m# error: Too many arguments for \"ParserBase\"\u001b[0m\u001b[0;34m\u001b[0m\u001b[0;34m\u001b[0m\u001b[0;34m\u001b[0m\u001b[0m\n\u001b[0;32m-> 1040\u001b[0;31m         \u001b[0;32mreturn\u001b[0m \u001b[0mmapping\u001b[0m\u001b[0;34m[\u001b[0m\u001b[0mengine\u001b[0m\u001b[0;34m]\u001b[0m\u001b[0;34m(\u001b[0m\u001b[0mself\u001b[0m\u001b[0;34m.\u001b[0m\u001b[0mf\u001b[0m\u001b[0;34m,\u001b[0m \u001b[0;34m**\u001b[0m\u001b[0mself\u001b[0m\u001b[0;34m.\u001b[0m\u001b[0moptions\u001b[0m\u001b[0;34m)\u001b[0m  \u001b[0;31m# type: ignore[call-arg]\u001b[0m\u001b[0;34m\u001b[0m\u001b[0;34m\u001b[0m\u001b[0m\n\u001b[0m\u001b[1;32m   1041\u001b[0m \u001b[0;34m\u001b[0m\u001b[0m\n\u001b[1;32m   1042\u001b[0m     \u001b[0;32mdef\u001b[0m \u001b[0m_failover_to_python\u001b[0m\u001b[0;34m(\u001b[0m\u001b[0mself\u001b[0m\u001b[0;34m)\u001b[0m\u001b[0;34m:\u001b[0m\u001b[0;34m\u001b[0m\u001b[0;34m\u001b[0m\u001b[0m\n",
            "\u001b[0;32m/usr/local/lib/python3.7/dist-packages/pandas/io/parsers/c_parser_wrapper.py\u001b[0m in \u001b[0;36m__init__\u001b[0;34m(self, src, **kwds)\u001b[0m\n\u001b[1;32m     49\u001b[0m \u001b[0;34m\u001b[0m\u001b[0m\n\u001b[1;32m     50\u001b[0m         \u001b[0;31m# open handles\u001b[0m\u001b[0;34m\u001b[0m\u001b[0;34m\u001b[0m\u001b[0;34m\u001b[0m\u001b[0m\n\u001b[0;32m---> 51\u001b[0;31m         \u001b[0mself\u001b[0m\u001b[0;34m.\u001b[0m\u001b[0m_open_handles\u001b[0m\u001b[0;34m(\u001b[0m\u001b[0msrc\u001b[0m\u001b[0;34m,\u001b[0m \u001b[0mkwds\u001b[0m\u001b[0;34m)\u001b[0m\u001b[0;34m\u001b[0m\u001b[0;34m\u001b[0m\u001b[0m\n\u001b[0m\u001b[1;32m     52\u001b[0m         \u001b[0;32massert\u001b[0m \u001b[0mself\u001b[0m\u001b[0;34m.\u001b[0m\u001b[0mhandles\u001b[0m \u001b[0;32mis\u001b[0m \u001b[0;32mnot\u001b[0m \u001b[0;32mNone\u001b[0m\u001b[0;34m\u001b[0m\u001b[0;34m\u001b[0m\u001b[0m\n\u001b[1;32m     53\u001b[0m \u001b[0;34m\u001b[0m\u001b[0m\n",
            "\u001b[0;32m/usr/local/lib/python3.7/dist-packages/pandas/io/parsers/base_parser.py\u001b[0m in \u001b[0;36m_open_handles\u001b[0;34m(self, src, kwds)\u001b[0m\n\u001b[1;32m    227\u001b[0m             \u001b[0mmemory_map\u001b[0m\u001b[0;34m=\u001b[0m\u001b[0mkwds\u001b[0m\u001b[0;34m.\u001b[0m\u001b[0mget\u001b[0m\u001b[0;34m(\u001b[0m\u001b[0;34m\"memory_map\"\u001b[0m\u001b[0;34m,\u001b[0m \u001b[0;32mFalse\u001b[0m\u001b[0;34m)\u001b[0m\u001b[0;34m,\u001b[0m\u001b[0;34m\u001b[0m\u001b[0;34m\u001b[0m\u001b[0m\n\u001b[1;32m    228\u001b[0m             \u001b[0mstorage_options\u001b[0m\u001b[0;34m=\u001b[0m\u001b[0mkwds\u001b[0m\u001b[0;34m.\u001b[0m\u001b[0mget\u001b[0m\u001b[0;34m(\u001b[0m\u001b[0;34m\"storage_options\"\u001b[0m\u001b[0;34m,\u001b[0m \u001b[0;32mNone\u001b[0m\u001b[0;34m)\u001b[0m\u001b[0;34m,\u001b[0m\u001b[0;34m\u001b[0m\u001b[0;34m\u001b[0m\u001b[0m\n\u001b[0;32m--> 229\u001b[0;31m             \u001b[0merrors\u001b[0m\u001b[0;34m=\u001b[0m\u001b[0mkwds\u001b[0m\u001b[0;34m.\u001b[0m\u001b[0mget\u001b[0m\u001b[0;34m(\u001b[0m\u001b[0;34m\"encoding_errors\"\u001b[0m\u001b[0;34m,\u001b[0m \u001b[0;34m\"strict\"\u001b[0m\u001b[0;34m)\u001b[0m\u001b[0;34m,\u001b[0m\u001b[0;34m\u001b[0m\u001b[0;34m\u001b[0m\u001b[0m\n\u001b[0m\u001b[1;32m    230\u001b[0m         )\n\u001b[1;32m    231\u001b[0m \u001b[0;34m\u001b[0m\u001b[0m\n",
            "\u001b[0;32m/usr/local/lib/python3.7/dist-packages/pandas/io/common.py\u001b[0m in \u001b[0;36mget_handle\u001b[0;34m(path_or_buf, mode, encoding, compression, memory_map, is_text, errors, storage_options)\u001b[0m\n\u001b[1;32m    705\u001b[0m                 \u001b[0mencoding\u001b[0m\u001b[0;34m=\u001b[0m\u001b[0mioargs\u001b[0m\u001b[0;34m.\u001b[0m\u001b[0mencoding\u001b[0m\u001b[0;34m,\u001b[0m\u001b[0;34m\u001b[0m\u001b[0;34m\u001b[0m\u001b[0m\n\u001b[1;32m    706\u001b[0m                 \u001b[0merrors\u001b[0m\u001b[0;34m=\u001b[0m\u001b[0merrors\u001b[0m\u001b[0;34m,\u001b[0m\u001b[0;34m\u001b[0m\u001b[0;34m\u001b[0m\u001b[0m\n\u001b[0;32m--> 707\u001b[0;31m                 \u001b[0mnewline\u001b[0m\u001b[0;34m=\u001b[0m\u001b[0;34m\"\"\u001b[0m\u001b[0;34m,\u001b[0m\u001b[0;34m\u001b[0m\u001b[0;34m\u001b[0m\u001b[0m\n\u001b[0m\u001b[1;32m    708\u001b[0m             )\n\u001b[1;32m    709\u001b[0m         \u001b[0;32melse\u001b[0m\u001b[0;34m:\u001b[0m\u001b[0;34m\u001b[0m\u001b[0;34m\u001b[0m\u001b[0m\n",
            "\u001b[0;31mFileNotFoundError\u001b[0m: [Errno 2] No such file or directory: '/MyDrive/2FAES_Python/TrimmedDataSet.csv'"
          ]
        }
      ]
    },
    {
      "cell_type": "markdown",
      "source": [
        "5b data visualization\n"
      ],
      "metadata": {
        "id": "EXxqxZFcwKM0"
      }
    },
    {
      "cell_type": "code",
      "source": [
        "#data mount \n",
        "import os\n",
        "from google.colab import drive\n",
        "drive.mount('/content/drive/')\n",
        "os.chdir(\"/content/drive/My Drive/FAES_BIOF309/\")"
      ],
      "metadata": {
        "colab": {
          "base_uri": "https://localhost:8080/"
        },
        "id": "ks9GQvr8wM42",
        "outputId": "941469a7-d2f9-4743-9609-c2fe2de9a840"
      },
      "execution_count": null,
      "outputs": [
        {
          "output_type": "stream",
          "name": "stdout",
          "text": [
            "Drive already mounted at /content/drive/; to attempt to forcibly remount, call drive.mount(\"/content/drive/\", force_remount=True).\n"
          ]
        }
      ]
    },
    {
      "cell_type": "markdown",
      "source": [
        ""
      ],
      "metadata": {
        "id": "AWtvjvqpwT_z"
      }
    },
    {
      "cell_type": "markdown",
      "source": [
        "#6 Cynthia"
      ],
      "metadata": {
        "id": "tCfwkLud3HnP"
      }
    },
    {
      "cell_type": "code",
      "source": [
        "#6 Cynthia"
      ],
      "metadata": {
        "id": "JYa-wAAjJXHU"
      },
      "execution_count": null,
      "outputs": []
    }
  ]
}